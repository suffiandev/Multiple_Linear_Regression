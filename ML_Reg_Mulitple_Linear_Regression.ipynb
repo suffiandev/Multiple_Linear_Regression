{
  "cells": [
    {
      "cell_type": "code",
      "source": [
        "import pandas as pd\n",
        "import numpy as np\n",
        "from sklearn.model_selection import train_test_split\n",
        "from sklearn.linear_model import LinearRegression\n",
        "from sklearn.metrics import mean_squared_error, r2_score\n",
        "\n",
        "# Read the dataset\n",
        "df = pd.read_csv(\"/content/study_performance.csv\")\n",
        "\n",
        "# Train/test split\n",
        "train, test = train_test_split(df, test_size=0.2, random_state=42)\n",
        "\n",
        "# Linear Regression model\n",
        "regr = LinearRegression()\n",
        "\n",
        "# Features and target\n",
        "X_train = train[['parental_level_of_education', 'math_score', 'reading_score']]\n",
        "y_train = train['writing_score']\n",
        "\n",
        "X_test = test[['parental_level_of_education', 'math_score', 'reading_score']]\n",
        "y_test = test['writing_score']\n",
        "\n",
        "# One-hot encoding for 'parental_level_of_education'\n",
        "X_train = pd.get_dummies(X_train, columns=['parental_level_of_education'])\n",
        "X_test = pd.get_dummies(X_test, columns=['parental_level_of_education'])\n",
        "\n",
        "# Train the model\n",
        "regr.fit(X_train, y_train)\n",
        "\n",
        "# Make predictions\n",
        "y_pred = regr.predict(X_test)\n",
        "\n",
        "# Evaluation\n",
        "print('Coefficients:', regr.coef_)\n",
        "print('Mean Squared Error (MSE): %.2f' % mean_squared_error(y_test, y_pred))\n",
        "print('Variance score: %.2f' % r2_score(y_test, y_pred))\n"
      ],
      "metadata": {
        "colab": {
          "base_uri": "https://localhost:8080/"
        },
        "id": "dONbN-qCWqtM",
        "outputId": "edc194f3-397e-483a-c8bb-7900a464855b"
      },
      "execution_count": null,
      "outputs": [
        {
          "output_type": "stream",
          "name": "stdout",
          "text": [
            "Coefficients: [ 0.06943822  0.92508853  0.10068255  1.24142047 -1.54033703  1.49636792\n",
            " -0.01075757 -1.28737633]\n",
            "Mean Squared Error (MSE): 23.13\n",
            "Variance score: 0.90\n"
          ]
        }
      ]
    }
  ],
  "metadata": {
    "kernelspec": {
      "display_name": "Python",
      "language": "python",
      "name": "conda-env-python-py"
    },
    "language_info": {
      "name": ""
    },
    "colab": {
      "provenance": []
    }
  },
  "nbformat": 4,
  "nbformat_minor": 0
}